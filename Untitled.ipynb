{
 "cells": [
  {
   "cell_type": "code",
   "execution_count": 5,
   "id": "bb35c698-6d81-424c-a95c-2a6453202477",
   "metadata": {
    "tags": []
   },
   "outputs": [
    {
     "name": "stdout",
     "output_type": "stream",
     "text": [
      "<class 'pandas.core.frame.DataFrame'>\n",
      "RangeIndex: 1000 entries, 0 to 999\n",
      "Data columns (total 16 columns):\n",
      " #   Column                   Non-Null Count  Dtype         \n",
      "---  ------                   --------------  -----         \n",
      " 0   tripduration             0 non-null      Int64         \n",
      " 1   starttime                0 non-null      datetime64[ns]\n",
      " 2   stoptime                 0 non-null      datetime64[ns]\n",
      " 3   start_station_id         0 non-null      Int64         \n",
      " 4   start_station_name       1000 non-null   object        \n",
      " 5   start_station_latitude   0 non-null      float64       \n",
      " 6   start_station_longitude  0 non-null      float64       \n",
      " 7   end_station_id           0 non-null      Int64         \n",
      " 8   end_station_name         1000 non-null   object        \n",
      " 9   end_station_latitude     0 non-null      float64       \n",
      " 10  end_station_longitude    0 non-null      float64       \n",
      " 11  bikeid                   0 non-null      Int64         \n",
      " 12  usertype                 1000 non-null   object        \n",
      " 13  birth_year               0 non-null      Int64         \n",
      " 14  gender                   1000 non-null   object        \n",
      " 15  customer_plan            1000 non-null   object        \n",
      "dtypes: Int64(5), datetime64[ns](2), float64(4), object(5)\n",
      "memory usage: 130.0+ KB\n",
      "None\n"
     ]
    }
   ],
   "source": [
    "from google.cloud import bigquery\n",
    "from google.oauth2 import service_account\n",
    "\n",
    "# Local에 저장된 json 파일 불러오기\n",
    "credentials = service_account.Credentials.from_service_account_file(r'secrets/streamlit-telecom-1295fcf28b88.json')\n",
    "\n",
    "# GCP 프로젝트\n",
    "project_id = 'streamlit-telecom'\n",
    "client = bigquery.Client(credentials = credentials, project=project_id)\n",
    "\n",
    "df = client.query('''\n",
    " SELECT *\n",
    " FROM `bigquery-public-data.new_york_citibike.citibike_trips` LIMIT \n",
    "1000''').to_dataframe()\n",
    "\n",
    "print(df.info())\n"
   ]
  },
  {
   "cell_type": "code",
   "execution_count": null,
   "id": "ad7645b8-6ea4-4706-96d5-a1408e00dca2",
   "metadata": {},
   "outputs": [],
   "source": []
  }
 ],
 "metadata": {
  "kernelspec": {
   "display_name": "Python 3 (ipykernel)",
   "language": "python",
   "name": "python3"
  },
  "language_info": {
   "codemirror_mode": {
    "name": "ipython",
    "version": 3
   },
   "file_extension": ".py",
   "mimetype": "text/x-python",
   "name": "python",
   "nbconvert_exporter": "python",
   "pygments_lexer": "ipython3",
   "version": "3.11.5"
  }
 },
 "nbformat": 4,
 "nbformat_minor": 5
}
